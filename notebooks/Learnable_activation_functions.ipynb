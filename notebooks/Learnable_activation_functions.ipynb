{
  "nbformat": 4,
  "nbformat_minor": 0,
  "metadata": {
    "colab": {
      "provenance": [],
      "authorship_tag": "ABX9TyNWYg39JiVPOmMF6a0QLQPq",
      "include_colab_link": true
    },
    "kernelspec": {
      "name": "python3",
      "display_name": "Python 3"
    },
    "language_info": {
      "name": "python"
    }
  },
  "cells": [
    {
      "cell_type": "markdown",
      "metadata": {
        "id": "view-in-github",
        "colab_type": "text"
      },
      "source": [
        "<a href=\"https://colab.research.google.com/github/protagora/learnable-activation-function/blob/main/Learnable_activation_functions.ipynb\" target=\"_parent\"><img src=\"https://colab.research.google.com/assets/colab-badge.svg\" alt=\"Open In Colab\"/></a>"
      ]
    },
    {
      "cell_type": "code",
      "execution_count": 1,
      "metadata": {
        "colab": {
          "base_uri": "https://localhost:8080/"
        },
        "id": "BvlDm24CE9qT",
        "outputId": "76ac8b83-3cdd-4ca3-d3ad-b0fe07c049b2"
      },
      "outputs": [
        {
          "output_type": "stream",
          "name": "stdout",
          "text": [
            "Cloning into 'learnable-activation-function'...\n",
            "remote: Enumerating objects: 53, done.\u001b[K\n",
            "remote: Counting objects: 100% (53/53), done.\u001b[K\n",
            "remote: Compressing objects: 100% (41/41), done.\u001b[K\n",
            "remote: Total 53 (delta 23), reused 40 (delta 10), pack-reused 0 (from 0)\u001b[K\n",
            "Receiving objects: 100% (53/53), 508.61 KiB | 4.58 MiB/s, done.\n",
            "Resolving deltas: 100% (23/23), done.\n"
          ]
        }
      ],
      "source": [
        "!git clone https://github.com/protagora/learnable-activation-function.git"
      ]
    },
    {
      "cell_type": "code",
      "source": [
        "%cd /content/learnable-activation-function"
      ],
      "metadata": {
        "colab": {
          "base_uri": "https://localhost:8080/"
        },
        "id": "JDZIZ05ZFJou",
        "outputId": "c18bde1a-05e2-43a6-edca-dcb1943dfea9"
      },
      "execution_count": 2,
      "outputs": [
        {
          "output_type": "stream",
          "name": "stdout",
          "text": [
            "/content/learnable-activation-function\n"
          ]
        }
      ]
    },
    {
      "cell_type": "code",
      "source": [
        "!pip install -e ."
      ],
      "metadata": {
        "colab": {
          "base_uri": "https://localhost:8080/"
        },
        "collapsed": true,
        "id": "aSxBCYB-FqVg",
        "outputId": "57afe258-3329-452b-a010-6dad298878cf"
      },
      "execution_count": 8,
      "outputs": [
        {
          "output_type": "stream",
          "name": "stdout",
          "text": [
            "Obtaining file:///content/learnable-activation-function\n",
            "  Preparing metadata (setup.py) ... \u001b[?25l\u001b[?25hdone\n",
            "Requirement already satisfied: torch in /usr/local/lib/python3.10/dist-packages (from LearnableActivationFunction==0.0.1) (2.5.0+cu121)\n",
            "Requirement already satisfied: torchvision in /usr/local/lib/python3.10/dist-packages (from LearnableActivationFunction==0.0.1) (0.20.0+cu121)\n",
            "Requirement already satisfied: Pillow in /usr/local/lib/python3.10/dist-packages (from LearnableActivationFunction==0.0.1) (10.4.0)\n",
            "Requirement already satisfied: numpy in /usr/local/lib/python3.10/dist-packages (from LearnableActivationFunction==0.0.1) (1.26.4)\n",
            "Requirement already satisfied: scikit-learn in /usr/local/lib/python3.10/dist-packages (from LearnableActivationFunction==0.0.1) (1.5.2)\n",
            "Requirement already satisfied: scipy>=1.6.0 in /usr/local/lib/python3.10/dist-packages (from scikit-learn->LearnableActivationFunction==0.0.1) (1.13.1)\n",
            "Requirement already satisfied: joblib>=1.2.0 in /usr/local/lib/python3.10/dist-packages (from scikit-learn->LearnableActivationFunction==0.0.1) (1.4.2)\n",
            "Requirement already satisfied: threadpoolctl>=3.1.0 in /usr/local/lib/python3.10/dist-packages (from scikit-learn->LearnableActivationFunction==0.0.1) (3.5.0)\n",
            "Requirement already satisfied: filelock in /usr/local/lib/python3.10/dist-packages (from torch->LearnableActivationFunction==0.0.1) (3.16.1)\n",
            "Requirement already satisfied: typing-extensions>=4.8.0 in /usr/local/lib/python3.10/dist-packages (from torch->LearnableActivationFunction==0.0.1) (4.12.2)\n",
            "Requirement already satisfied: networkx in /usr/local/lib/python3.10/dist-packages (from torch->LearnableActivationFunction==0.0.1) (3.4.2)\n",
            "Requirement already satisfied: jinja2 in /usr/local/lib/python3.10/dist-packages (from torch->LearnableActivationFunction==0.0.1) (3.1.4)\n",
            "Requirement already satisfied: fsspec in /usr/local/lib/python3.10/dist-packages (from torch->LearnableActivationFunction==0.0.1) (2024.10.0)\n",
            "Requirement already satisfied: sympy==1.13.1 in /usr/local/lib/python3.10/dist-packages (from torch->LearnableActivationFunction==0.0.1) (1.13.1)\n",
            "Requirement already satisfied: mpmath<1.4,>=1.1.0 in /usr/local/lib/python3.10/dist-packages (from sympy==1.13.1->torch->LearnableActivationFunction==0.0.1) (1.3.0)\n",
            "Requirement already satisfied: MarkupSafe>=2.0 in /usr/local/lib/python3.10/dist-packages (from jinja2->torch->LearnableActivationFunction==0.0.1) (3.0.2)\n",
            "Installing collected packages: LearnableActivationFunction\n",
            "  Running setup.py develop for LearnableActivationFunction\n",
            "Successfully installed LearnableActivationFunction-0.0.1\n"
          ]
        }
      ]
    },
    {
      "cell_type": "code",
      "source": [
        "!PYTHONPATH=modules python examples/cdf_learnable_activation/train.py"
      ],
      "metadata": {
        "colab": {
          "base_uri": "https://localhost:8080/"
        },
        "id": "WnMPuwWEFPsT",
        "outputId": "b2907054-dd24-415a-fcd3-00cba8a75d88"
      },
      "execution_count": null,
      "outputs": [
        {
          "output_type": "stream",
          "name": "stdout",
          "text": [
            "Downloading https://www.cs.toronto.edu/~kriz/cifar-10-python.tar.gz to ./data/cifar-10-python.tar.gz\n",
            "100% 170M/170M [00:01<00:00, 94.2MB/s]\n",
            "Extracting ./data/cifar-10-python.tar.gz to ./data\n",
            "[2024-11-10 22:00:05.717216] Updating histogram...\n",
            "[2024-11-10 22:01:11.337156] Updating histogram...\n",
            "[2024-11-10 22:01:40.085887] Updating histogram...\n",
            "[2024-11-10 22:01:40.166797] Updating histogram...\n",
            "[2024-11-10 22:02:41.444434] Updating histogram...\n",
            "[2024-11-10 22:03:11.048408] Updating histogram...\n",
            "[2024-11-10 22:03:11.094005] Updating histogram...\n",
            "[2024-11-10 22:04:13.226176] Updating histogram...\n",
            "[2024-11-10 22:04:44.143839] Updating histogram...\n",
            "[2024-11-10 22:04:44.181782] Updating histogram...\n",
            "[2024-11-10 22:05:46.199027] Updating histogram...\n",
            "[2024-11-10 22:06:17.511385] Updating histogram...\n",
            "[2024-11-10 22:06:17.576268] Updating histogram...\n",
            "[2024-11-10 22:07:32.965460] Updating histogram...\n",
            "[2024-11-10 22:08:02.222395] Updating histogram...\n",
            "[2024-11-10 22:08:02.267532] Updating histogram...\n",
            "[2024-11-10 22:09:04.561408] Updating histogram...\n"
          ]
        }
      ]
    }
  ]
}